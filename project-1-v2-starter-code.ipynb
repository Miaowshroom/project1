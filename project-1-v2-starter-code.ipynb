{
 "cells": [
  {
   "cell_type": "markdown",
   "metadata": {},
   "source": [
    "<img src=\"http://imgur.com/1ZcRyrc.png\" style=\"float: left; margin: 15px; height: 80px\">\n",
    "\n",
    "# Project 1\n",
    "\n",
    "### Building \"Pokemon Stay\"\n",
    "\n",
    "---\n",
    "You are an analyst at a \"scrappy\" online gaming company that specializes in remakes of last year's fads.\n",
    "\n",
    "Your boss, who runs the product development team, is convinced that Pokemon Go's fatal flaw was that you had to actually move around outside. She has design mock-ups for a new game called Pokemon Stay: in this version players still need to move, but just from website to website. Pokemon gyms are now popular online destinations, and catching Pokemon in the \"wild\" simply requires browsing the internet for hours in the comfort of your home.\n",
    "\n",
    "She wants you to program a prototype version of the game, and analyze the planned content to help the team calibrate the design."
   ]
  },
  {
   "cell_type": "markdown",
   "metadata": {},
   "source": [
    "#### Package imports\n",
    "\n",
    "The pprint package below is the only package imported here, and it's not even strictly required to do any of the project. Printing python variables and objects with pprint can help to format them in a \"prettier\" way."
   ]
  },
  {
   "cell_type": "code",
   "execution_count": 1,
   "metadata": {},
   "outputs": [],
   "source": [
    "from pprint import pprint"
   ]
  },
  {
   "cell_type": "markdown",
   "metadata": {},
   "source": [
    "<img src=\"http://imgur.com/l5NasQj.png\" style=\"float: left; margin: 25px 15px 0px 0px; height: 25px\">\n",
    "\n",
    "## 1. Defining a player\n",
    "\n",
    "---\n",
    "\n",
    "The player variables are:\n",
    "\n",
    "    player_id : id code unique to each player (integer)\n",
    "    player_name : entered name of the player (string)\n",
    "    time_played : number of time played the game in minutes (float)\n",
    "    player_pokemon: the player's captured pokemon (dictionary)\n",
    "    gyms_visited: ids of the gyms that a player has visited (list)\n",
    "    \n",
    "Create the components for a player object by defining each of these variables. The dictionary and list variables should just be defined as empty; you can use any (correctly typed) values for the others."
   ]
  },
  {
   "cell_type": "code",
   "execution_count": 2,
   "metadata": {},
   "outputs": [],
   "source": [
    "class Player:\n",
    "    id_count = 1\n",
    "    def __init__(self, name_class, played_time_class = float(0), player_po_class = {}, gym_lists_class = []):\n",
    "        self.player_id = Player.id_count \n",
    "        Player.id_count += 1\n",
    "        self.player_name = name_class\n",
    "        self.time_played = played_time_class\n",
    "        self.player_pokemon = player_po_class.copy()\n",
    "        self.gyms_visited = gym_lists_class.copy()\n",
    "    \n",
    "    "
   ]
  },
  {
   "cell_type": "code",
   "execution_count": 3,
   "metadata": {},
   "outputs": [],
   "source": [
    "player1 = Player(\"Wenmiao\")"
   ]
  },
  {
   "cell_type": "code",
   "execution_count": 4,
   "metadata": {},
   "outputs": [
    {
     "data": {
      "text/plain": [
       "1"
      ]
     },
     "execution_count": 4,
     "metadata": {},
     "output_type": "execute_result"
    }
   ],
   "source": [
    "player1.player_id"
   ]
  },
  {
   "cell_type": "markdown",
   "metadata": {},
   "source": [
    "<img src=\"http://imgur.com/l5NasQj.png\" style=\"float: left; margin: 25px 15px 0px 0px; height: 25px\">\n",
    "\n",
    "## 2. Defining \"gym\" locations\n",
    "\n",
    "---\n",
    "\n",
    "As the sole programmer, Pokemon Stay will have to start small. To begin, there will be 10 different gym location websites on the internet. The gym locations are:\n",
    "\n",
    "    1. 'reddit.com'\n",
    "    2. 'amazon.com'\n",
    "    3. 'twitter.com'\n",
    "    4. 'linkedin.com'\n",
    "    5. 'ebay.com'\n",
    "    6. 'netflix.com'\n",
    "    7. 'sporcle.com'\n",
    "    8. 'stackoverflow.com'\n",
    "    9. 'github.com'\n",
    "    10. 'quora.com'\n",
    "\n",
    "1. Set up a list of all the gym locations. This will be a list of strings.\n",
    "2. Append two of these locations to your player's list of visited gyms.\n",
    "3. Print the list."
   ]
  },
  {
   "cell_type": "code",
   "execution_count": 5,
   "metadata": {
    "scrolled": true
   },
   "outputs": [],
   "source": [
    "pokemon_gyms = ['reddit.com', 'amazon.com', 'twitter.com', 'linkedin.com', 'ebay.com',\\\n",
    "            'netflix.com', 'sporcle.com', 'stackoverflow.com','github.com','quora.com']\n",
    "player1.gyms_visited.extend( pokemon_gyms[:2])"
   ]
  },
  {
   "cell_type": "code",
   "execution_count": 6,
   "metadata": {},
   "outputs": [
    {
     "name": "stdout",
     "output_type": "stream",
     "text": [
      "['reddit.com', 'amazon.com']\n"
     ]
    }
   ],
   "source": [
    "pprint(player1.gyms_visited)"
   ]
  },
  {
   "cell_type": "markdown",
   "metadata": {},
   "source": [
    "<img src=\"http://imgur.com/l5NasQj.png\" style=\"float: left; margin: 25px 15px 0px 0px; height: 25px\">\n",
    "\n",
    "## 3. Create a pokedex\n",
    "\n",
    "---\n",
    "\n",
    "We also need to create some pokemon to catch. Each pokemon will be defined by these variables:\n",
    "\n",
    "    pokemon_id : unique identifier for each pokemon (integer)\n",
    "    name : the name of the pokemon (string)\n",
    "    type : the category of pokemon (string)\n",
    "    hp : base hitpoints (integer)\n",
    "    attack : base attack (integer)\n",
    "    defense : base defense (integer)\n",
    "    special_attack : base special attack (integer)\n",
    "    special_defense : base sepecial defense (integer)\n",
    "    speed : base speed (integer)\n",
    "\n",
    "We are only going to create 3 different pokemon with these `pokemon_id` and `pokemon_name` values:\n",
    "\n",
    "    1 : 'charmander'\n",
    "    2 : 'squirtle'\n",
    "    3 : 'bulbasaur'\n",
    "\n",
    "Create a dictionary that will contain the pokemon. The keys of the dictionary will be the `pokemon_id` and the values will themselves dictionaries that contain the other pokemon variables. The structure of the pokedex dictionary will start like so:\n",
    "     \n",
    "     {\n",
    "         1: {\n",
    "                 'name':'charmander',\n",
    "                 'type':'fire',\n",
    "                 ...\n",
    "                 \n",
    "The `type` of charmander, squirtle, and bulbasaur should be `'fire'`, `'water'`, and `'poison'` respectively. The other values are up to you, make them anything you like!\n",
    "\n",
    "Print (or pretty print) the pokedex dictionary with the 3 pokemon."
   ]
  },
  {
   "cell_type": "code",
   "execution_count": 7,
   "metadata": {},
   "outputs": [],
   "source": [
    "def pokedex_add(pokedict,index, p_name, p_type, p_hp = 100, p_attack = 10, p_defense = 5, p_sp_attack = 15, p_sp_defense = 8, p_speed = 10):\n",
    "    pokedict[index] = {'name': p_name,\n",
    "                       'type':p_type,\n",
    "                       'hp':p_hp,\n",
    "                       'attack': p_attack,\n",
    "                       'defense': p_defense,\n",
    "                       'special_attack': p_sp_attack,\n",
    "                       'special_defense': p_sp_defense,\n",
    "                       'speed': p_speed\n",
    "                      }\n",
    "\n"
   ]
  },
  {
   "cell_type": "code",
   "execution_count": 8,
   "metadata": {},
   "outputs": [],
   "source": [
    "pokedex = {}"
   ]
  },
  {
   "cell_type": "code",
   "execution_count": 9,
   "metadata": {},
   "outputs": [],
   "source": [
    "pokedex_add(pokedex,1,p_name = 'charmander', p_type = 'fire')\n",
    "pokedex_add(pokedex,2,p_name = 'squirtle', p_type = 'water')\n",
    "pokedex_add(pokedex,3,p_name = 'bulbasaur', p_type = 'poison')"
   ]
  },
  {
   "cell_type": "code",
   "execution_count": 10,
   "metadata": {},
   "outputs": [
    {
     "name": "stdout",
     "output_type": "stream",
     "text": [
      "{1: {'attack': 10,\n",
      "     'defense': 5,\n",
      "     'hp': 100,\n",
      "     'name': 'charmander',\n",
      "     'special_attack': 15,\n",
      "     'special_defense': 8,\n",
      "     'speed': 10,\n",
      "     'type': 'fire'},\n",
      " 2: {'attack': 10,\n",
      "     'defense': 5,\n",
      "     'hp': 100,\n",
      "     'name': 'squirtle',\n",
      "     'special_attack': 15,\n",
      "     'special_defense': 8,\n",
      "     'speed': 10,\n",
      "     'type': 'water'},\n",
      " 3: {'attack': 10,\n",
      "     'defense': 5,\n",
      "     'hp': 100,\n",
      "     'name': 'bulbasaur',\n",
      "     'special_attack': 15,\n",
      "     'special_defense': 8,\n",
      "     'speed': 10,\n",
      "     'type': 'poison'}}\n"
     ]
    }
   ],
   "source": [
    "pprint(pokedex)"
   ]
  },
  {
   "cell_type": "markdown",
   "metadata": {},
   "source": [
    "<img src=\"http://imgur.com/l5NasQj.png\" style=\"float: left; margin: 25px 15px 0px 0px; height: 25px\">\n",
    "\n",
    "## 4. Create a data structure for players\n",
    "\n",
    "---\n",
    "\n",
    "### 4.1 \n",
    "\n",
    "In order to maintain a database of multiple players, create a dictionary that keeps track of players indexed by `player_id`. \n",
    "\n",
    "The keys of the dictionary will be `player_id` and values will be dictionaries containing each player's variables (from question 1). \n",
    "\n",
    "Construct the `players` dictionary and insert the player that you defined in question 1, then print `players`."
   ]
  },
  {
   "cell_type": "code",
   "execution_count": 11,
   "metadata": {},
   "outputs": [],
   "source": [
    "players = {}\n",
    "def add_player_dict(players, player_varable):\n",
    "    players[player_varable.player_id] = { 'player_name': player_varable.player_name,\n",
    "                               'time_played': player_varable.time_played,\n",
    "                               'player_pokemon': player_varable.player_pokemon,\n",
    "                               'gyms_visited': player_varable.gyms_visited\n",
    "                              }"
   ]
  },
  {
   "cell_type": "code",
   "execution_count": 12,
   "metadata": {},
   "outputs": [],
   "source": [
    "add_player_dict(players,player1)"
   ]
  },
  {
   "cell_type": "code",
   "execution_count": 13,
   "metadata": {},
   "outputs": [
    {
     "name": "stdout",
     "output_type": "stream",
     "text": [
      "{'gyms_visited': ['reddit.com', 'amazon.com'],\n",
      " 'player_name': 'Wenmiao',\n",
      " 'player_pokemon': {},\n",
      " 'time_played': 0.0}\n"
     ]
    }
   ],
   "source": [
    "pprint(players[1])"
   ]
  },
  {
   "cell_type": "markdown",
   "metadata": {},
   "source": [
    "---\n",
    "\n",
    "### 4.2\n",
    "\n",
    "Create a new player with `player_id = 2` in the `players` dictionary. Leave the `'player_pokemon'` dictionary empty. Append `'alcatraz'` and `'pacific_beach'` to the `'gyms_visited'` list for player 2.\n",
    "\n",
    "The `'player_name'` and `'time_played'` values are up to you, but must be a string and float, respectively.\n",
    "\n",
    "Remember, the player_id is the key for the player in the players dictionary.\n",
    "\n",
    "Print the `players` dictionary with the new player inserted."
   ]
  },
  {
   "cell_type": "code",
   "execution_count": 14,
   "metadata": {},
   "outputs": [],
   "source": [
    "player2 = Player('Marc', player_po_class = {}, gym_lists_class=['alcatraz', 'pacific_beach'] )\n",
    "add_player_dict(players,player2)"
   ]
  },
  {
   "cell_type": "code",
   "execution_count": 15,
   "metadata": {},
   "outputs": [],
   "source": [
    "player3=Player('a')"
   ]
  },
  {
   "cell_type": "code",
   "execution_count": 17,
   "metadata": {
    "scrolled": false
   },
   "outputs": [
    {
     "name": "stdout",
     "output_type": "stream",
     "text": [
      "{1: {'gyms_visited': ['reddit.com', 'amazon.com'],\n",
      "     'player_name': 'Wenmiao',\n",
      "     'player_pokemon': {},\n",
      "     'time_played': 0.0},\n",
      " 2: {'gyms_visited': ['alcatraz', 'pacific_beach'],\n",
      "     'player_name': 'Marc',\n",
      "     'player_pokemon': {},\n",
      "     'time_played': 0.0}}\n"
     ]
    }
   ],
   "source": [
    "pprint(players)"
   ]
  },
  {
   "cell_type": "markdown",
   "metadata": {},
   "source": [
    "<img src=\"http://imgur.com/l5NasQj.png\" style=\"float: left; margin: 25px 15px 0px 0px; height: 25px\">\n",
    "\n",
    "## 5. Add captured pokemon for each player\n",
    "\n",
    "---\n",
    "\n",
    "The `'player_pokemon'` keyed dictionaries for each player keep track of which of the pokemon each player has.\n",
    "\n",
    "The keys of the `'player_pokemon'` dictionaries are the pokemon ids that correspond to the ids in the `pokedex` dictionary you created earlier. The values are integers specifying the stats for the pokemon.\n",
    "\n",
    "Give player 1 a squirtle. Give player 2 charmander and a bulbasaur.\n",
    "\n",
    "Print the players dictionary after adding the pokemon for each player.\n"
   ]
  },
  {
   "cell_type": "code",
   "execution_count": 18,
   "metadata": {},
   "outputs": [],
   "source": [
    "player1.player_pokemon.update({2:pokedex[2]})\n",
    "\n",
    "add_player_dict(players,player1) # update the player list\n",
    "\n",
    "player2.player_pokemon.update({1:pokedex[1],3:pokedex[3]})\n",
    "\n",
    "add_player_dict(players,player2) # update the player list\n"
   ]
  },
  {
   "cell_type": "code",
   "execution_count": 19,
   "metadata": {},
   "outputs": [
    {
     "name": "stdout",
     "output_type": "stream",
     "text": [
      "{1: {'gyms_visited': ['reddit.com', 'amazon.com'],\n",
      "     'player_name': 'Wenmiao',\n",
      "     'player_pokemon': {2: {'attack': 10,\n",
      "                            'defense': 5,\n",
      "                            'hp': 100,\n",
      "                            'name': 'squirtle',\n",
      "                            'special_attack': 15,\n",
      "                            'special_defense': 8,\n",
      "                            'speed': 10,\n",
      "                            'type': 'water'}},\n",
      "     'time_played': 0.0},\n",
      " 2: {'gyms_visited': ['alcatraz', 'pacific_beach'],\n",
      "     'player_name': 'Marc',\n",
      "     'player_pokemon': {1: {'attack': 10,\n",
      "                            'defense': 5,\n",
      "                            'hp': 100,\n",
      "                            'name': 'charmander',\n",
      "                            'special_attack': 15,\n",
      "                            'special_defense': 8,\n",
      "                            'speed': 10,\n",
      "                            'type': 'fire'},\n",
      "                        3: {'attack': 10,\n",
      "                            'defense': 5,\n",
      "                            'hp': 100,\n",
      "                            'name': 'bulbasaur',\n",
      "                            'special_attack': 15,\n",
      "                            'special_defense': 8,\n",
      "                            'speed': 10,\n",
      "                            'type': 'poison'}},\n",
      "     'time_played': 0.0}}\n"
     ]
    }
   ],
   "source": [
    "pprint(players)"
   ]
  },
  {
   "cell_type": "markdown",
   "metadata": {},
   "source": [
    "\n",
    "\n",
    "## 6. What gyms have players visited?\n",
    "\n",
    "---\n",
    "<img src=\"http://imgur.com/l5NasQj.png\" style=\"float: left; margin: 25px 15px 0px 0px; height: 25px\">\n",
    "### 6.1\n",
    "\n",
    "Write a for-loop that:\n",
    "\n",
    "1. Iterates through the `pokemon_gyms` list of gym locations you defined before.\n",
    "2. For each gym, iterate through each player in the `players` dictionary with a second, internal for-loop.\n",
    "3. If the player has visited the gym, print out \"[player] has visited [gym location].\", filling in [player] and [gym location] with the current player's name and current gym location."
   ]
  },
  {
   "cell_type": "code",
   "execution_count": 20,
   "metadata": {
    "scrolled": true
   },
   "outputs": [
    {
     "name": "stdout",
     "output_type": "stream",
     "text": [
      "Wenmiao has visited reddit.com\n",
      "Wenmiao has visited amazon.com\n"
     ]
    }
   ],
   "source": [
    "for gym in pokemon_gyms:\n",
    "    for player in players.keys():\n",
    "        if gym in players[player]['gyms_visited']:\n",
    "            print(players[player]['player_name'] + ' has visited ' + gym)\n",
    "    "
   ]
  },
  {
   "cell_type": "markdown",
   "metadata": {},
   "source": [
    "<img src=\"http://imgur.com/xDpSobf.png\" style=\"float: left; margin: 25px 15px 0px 0px; height: 25px\">\n",
    "### 6.2\n",
    "\n",
    "How many times did that loop run? If you have N gyms and also N players, how many times would it run as a function of N?\n",
    "\n",
    "Can you think of a more efficient way to accomplish the same thing? \n",
    "\n",
    "(You can write your answer as Markdown text.)"
   ]
  },
  {
   "cell_type": "code",
   "execution_count": 21,
   "metadata": {},
   "outputs": [],
   "source": [
    "#O(N^2) if including the checking of gym in the gyms_visited list will be O(N^3)\n",
    "# will get loop over the players, then print the gym in the gyms_visited list will be O(N) if including loop for printing O(N^2)"
   ]
  },
  {
   "cell_type": "markdown",
   "metadata": {},
   "source": [
    "<img src=\"http://imgur.com/l5NasQj.png\" style=\"float: left; margin: 25px 15px 0px 0px; height: 25px\">\n",
    "\n",
    "## 7. Calculate player \"power\".\n",
    "\n",
    "---\n",
    "\n",
    "Define a function that will calculate a player's \"power\". Player power is defined as the sum of the base statistics all of their pokemon.\n",
    "\n",
    "Your function will:\n",
    "\n",
    "1. Accept the `players` dictionary, `pokedex` dictionary, and a player_id as arguments.\n",
    "2. For the specified player_id, look up that player's pokemon and their level(s).\n",
    "3. Find and aggregate the attack and defense values for each of the player's pokemon from the `pokedex` dictionary.\n",
    "4. Print \"[player name]'s power is [player power].\", where the player power is the sum of the base statistics for all of their pokemon.\n",
    "5. Return the player's power value.\n",
    "\n",
    "Print out the pokemon power for each of your players."
   ]
  },
  {
   "cell_type": "code",
   "execution_count": 22,
   "metadata": {},
   "outputs": [],
   "source": [
    "def check_power(players, pokedex, player_id):\n",
    "    mypokemon = players[player_id]['player_pokemon'].keys()\n",
    "    power = 0\n",
    "    for i in mypokemon:\n",
    "        power = power + pokedex[i]['attack'] + pokedex[i]['defense']\n",
    "        \n",
    "    print(players[player_id]['player_name'] + \"'s power is \" + str(power))\n",
    "    return power"
   ]
  },
  {
   "cell_type": "code",
   "execution_count": 23,
   "metadata": {},
   "outputs": [
    {
     "name": "stdout",
     "output_type": "stream",
     "text": [
      "Marc's power is 30\n"
     ]
    },
    {
     "data": {
      "text/plain": [
       "30"
      ]
     },
     "execution_count": 23,
     "metadata": {},
     "output_type": "execute_result"
    }
   ],
   "source": [
    "check_power(players,pokedex,player2.player_id)"
   ]
  },
  {
   "cell_type": "markdown",
   "metadata": {
    "collapsed": true
   },
   "source": [
    "<img src=\"http://imgur.com/l5NasQj.png\" style=\"float: left; margin: 25px 15px 0px 0px; height: 25px\">\n",
    "\n",
    "## 8. Load a pokedex file containing all the pokemon\n",
    "\n",
    "---\n",
    "\n",
    "### 8.1\n",
    "\n",
    "While you were putting together the prototype code, your colleagues were preparing a dataset of Pokemon and their attributes. (This was a rush job, so they may have picked some crazy values for some...)\n",
    "\n",
    "The code below loads information from a comma separated value (csv) file. You need to parse this string into a more useable format. The format of the string is:\n",
    "\n",
    "- Rows are separated by newline characters: \\n\n",
    "- Columns are separated by commas: ,\n",
    "- All cells in the csv are double quoted. Ex: \"PokedexNumber\" is the first cell of the first row.\n",
    "\n",
    "\n",
    "Using for-loops, create a list of lists where each list within the overall list is a row of the csv/matrix, and each element in that list is a cell in that row. Additional criteria:\n",
    "\n",
    "1. Quotes are removed from each cell item.\n",
    "2. Numeric column values are converted to floats.\n",
    "3. There are some cells that are empty and have no information. For these cells put a -1 value in place.\n",
    "\n",
    "Your end result is effectively a matrix. Each list in the outer list is a row, and the *j*th elements of list together form the *j*th column, which represents a data attribute. The first three lists in your pokedex list should look like this:\n",
    "\n",
    "    ['PokedexNumber', 'Name', 'Type', 'Total', 'HP', 'Attack', 'Defense', 'SpecialAttack', 'SpecialDefense', 'Speed']\n",
    "    [1.0, 'Bulbasaur', 'GrassPoison', 318.0, 45.0, 49.0, 49.0, 65.0, 65.0, 45.0]\n",
    "    [2.0, 'Ivysaur', 'GrassPoison', 405.0, 60.0, 62.0, 63.0, 80.0, 80.0, 60.0]"
   ]
  },
  {
   "cell_type": "code",
   "execution_count": 24,
   "metadata": {},
   "outputs": [],
   "source": [
    "# Code to read in pokedex info\n",
    "raw_pd = ''\n",
    "pokedex_file = 'pokedex_basic.csv'\n",
    "with open(pokedex_file, 'r') as f:\n",
    "    raw_pd = f.read()\n",
    "    \n",
    "# the pokedex string is assigned to the raw_pd variable"
   ]
  },
  {
   "cell_type": "code",
   "execution_count": 25,
   "metadata": {},
   "outputs": [],
   "source": [
    "clean1 = raw_pd.splitlines()"
   ]
  },
  {
   "cell_type": "code",
   "execution_count": 26,
   "metadata": {},
   "outputs": [],
   "source": [
    "data_unique1 = []\n",
    "for line in clean1:\n",
    "    ele_list = line.split(\",\")\n",
    "    row_entry = []\n",
    "    for ele in ele_list:\n",
    "        if not ele[1:-1]:\n",
    "            row_entry.append(-1)\n",
    "        elif ele[1:-1].isdigit():\n",
    "            row_entry.append(int(ele[1:-1]))\n",
    "        else:\n",
    "            row_entry.append(ele[1:-1])\n",
    "    if row_entry not in data_unique1:\n",
    "        data_unique1.append(row_entry)"
   ]
  },
  {
   "cell_type": "code",
   "execution_count": 27,
   "metadata": {},
   "outputs": [],
   "source": [
    "header = data_unique1[0]\n",
    "data_unique1 = data_unique1[1:]\n",
    "#data_unique1"
   ]
  },
  {
   "cell_type": "markdown",
   "metadata": {},
   "source": [
    "<img src=\"http://imgur.com/xDpSobf.png\" style=\"float: left; margin: 25px 15px 0px 0px; height: 25px\">\n",
    "\n",
    "### 8.2 Parse the raw pokedex with list comprehensions\n",
    "\n",
    "---\n",
    "\n",
    "Perform the same parsing as above, but **using only a single list comprehension** instead of for loops. You may have nested list comprehensions within the main list comprehension! The output should be exactly the same."
   ]
  },
  {
   "cell_type": "code",
   "execution_count": 28,
   "metadata": {},
   "outputs": [],
   "source": [
    "# dataclear2 in list comperhensions\n",
    "dataclear2 = [[-1 if not ele[1:-1] else int(ele[1:-1]) if ele[1:-1].isdigit() else ele[1:-1] for ele in line.split(',')] for line in raw_pd.splitlines()]"
   ]
  },
  {
   "cell_type": "code",
   "execution_count": 29,
   "metadata": {},
   "outputs": [],
   "source": [
    "# data_unique in list comperhensions \n",
    "data_unique2 = []\n",
    "[data_unique2.append(item) for item in [[-1 if not ele[1:-1] else int(ele[1:-1]) if ele[1:-1].isdigit() else ele[1:-1] for ele in line.split(',')] for line in raw_pd.splitlines()] if item not in data_unique2]\n",
    "header2 = data_unique2[0]\n",
    "data_unique2 = data_unique2[1:]"
   ]
  },
  {
   "cell_type": "code",
   "execution_count": 30,
   "metadata": {},
   "outputs": [],
   "source": [
    "# cleanraw = [line.split(\",\") for line in clean1]\n",
    "# cleanraw = [[ele[1:-1] for ele in entry] for entry in cleanraw ]\n",
    "# hearder = cleanraw[0]\n",
    "# data = cleanraw[1:]\n",
    "# dataclear = [[-1 if not ele else int(ele) if ele.isdigit() else ele for ele in entry] for entry in data] \n",
    "# data_unique = []\n",
    "# for i in dataclear:\n",
    "#     if i not in data_unique:\n",
    "#         data_unique.append(i)"
   ]
  },
  {
   "cell_type": "code",
   "execution_count": 31,
   "metadata": {},
   "outputs": [
    {
     "data": {
      "text/plain": [
       "True"
      ]
     },
     "execution_count": 31,
     "metadata": {},
     "output_type": "execute_result"
    }
   ],
   "source": [
    "data_unique1== data_unique2"
   ]
  },
  {
   "cell_type": "markdown",
   "metadata": {},
   "source": [
    "<img src=\"http://imgur.com/l5NasQj.png\" style=\"float: left; margin: 25px 15px 0px 0px; height: 25px\">\n",
    "\n",
    "## 9. Write a function to generate the full pokedex\n",
    "\n",
    "---\n",
    "\n",
    "Write a function that recreates the pokedex you made before, but with the data read in from the full pokemon file. The `PokedexNumber` should be used as the `pokemon_id` key values for the dictionary of pokemon.\n",
    "\n",
    "Your function should:\n",
    "\n",
    "1. Take the parsed pokedex information you created above as an argument.\n",
    "2. Return a dictionary in the same format as your original pokedex you created before containing the information from the parsed full pokedex file.\n",
    "\n",
    "To test the function, print out the pokemon with id = 100."
   ]
  },
  {
   "cell_type": "code",
   "execution_count": 32,
   "metadata": {},
   "outputs": [],
   "source": [
    "# data_unique1"
   ]
  },
  {
   "cell_type": "code",
   "execution_count": 33,
   "metadata": {
    "scrolled": true
   },
   "outputs": [],
   "source": [
    "# althogh I dont think using the pokedexNumber only as the dictionary key \n",
    "# is the right way to repersent the storyline of pokemon game.\n",
    "\n",
    "# To fit the requirement \n",
    "# 1 if Mega evolution involved:  take the normal form of the each pokemon\n",
    "# 2 if form variation involved:  take the first variation in the entry\n",
    "# 3 if confined or not confined: take the confined in the entry\n",
    "# 4 if size variation involved:  take the average size\n",
    "# which will be end up to be the first entry of the same pokemonnumber\n",
    "\n",
    "def get_pokedex(data_unique1,header):\n",
    "    pokedex ={}\n",
    "    for ele in data_unique1:\n",
    "        if not pokedex.get(ele[0],[]):\n",
    "            pokedex[ele[0]]=dict(zip(header[1:],ele[1:]))\n",
    "    return pokedex\n"
   ]
  },
  {
   "cell_type": "code",
   "execution_count": 34,
   "metadata": {},
   "outputs": [],
   "source": [
    "pokedex_remove = get_pokedex(data_unique2,header2)"
   ]
  },
  {
   "cell_type": "code",
   "execution_count": 35,
   "metadata": {},
   "outputs": [
    {
     "name": "stdout",
     "output_type": "stream",
     "text": [
      "{'Attack': 62,\n",
      " 'Defense': 63,\n",
      " 'HP': 60,\n",
      " 'Name': 'Ivysaur',\n",
      " 'SpecialAttack': 80,\n",
      " 'SpecialDefense': 80,\n",
      " 'Speed': 60,\n",
      " 'Total': 405,\n",
      " 'Type': 'GrassPoison'}\n"
     ]
    }
   ],
   "source": [
    "pprint(pokedex_remove[2])"
   ]
  },
  {
   "cell_type": "code",
   "execution_count": 36,
   "metadata": {},
   "outputs": [],
   "source": [
    "# alternetive will use turple as key turple as (pokedexNumber,variation)\n",
    "\n",
    "\n",
    "\n",
    "def get_pokedex_variation(data_unique1,header):\n",
    "    pokedex ={}\n",
    "    repeat_dict = {}\n",
    "    for ele in data_unique1:\n",
    "        variation = repeat_dict.get(ele[0],0)+1\n",
    "        pokedex[(ele[0],variation)]=dict(zip(header[1:],ele[1:]))\n",
    "        repeat_dict[ele[0]] = repeat_dict.get(ele[0],0)+1\n",
    "    return pokedex\n",
    "\n",
    "# a fix code to get the pokedexNumber \n",
    "\n",
    "def get_pokedexkey(pokedex_number, variation = 1):\n",
    "    return (pokedex_number, variation)"
   ]
  },
  {
   "cell_type": "code",
   "execution_count": 37,
   "metadata": {},
   "outputs": [],
   "source": [
    "pokedex2 = get_pokedex_variation(data_unique2,header2)"
   ]
  },
  {
   "cell_type": "code",
   "execution_count": 38,
   "metadata": {},
   "outputs": [
    {
     "name": "stdout",
     "output_type": "stream",
     "text": [
      "{'Attack': 62,\n",
      " 'Defense': 63,\n",
      " 'HP': 60,\n",
      " 'Name': 'Ivysaur',\n",
      " 'SpecialAttack': 80,\n",
      " 'SpecialDefense': 80,\n",
      " 'Speed': 60,\n",
      " 'Total': 405,\n",
      " 'Type': 'GrassPoison'}\n"
     ]
    }
   ],
   "source": [
    "pprint(pokedex2[get_pokedexkey(2)])"
   ]
  },
  {
   "cell_type": "code",
   "execution_count": 39,
   "metadata": {},
   "outputs": [],
   "source": [
    "#for this case to create a player with the turple index system\n",
    "\n",
    "player4 = Player('Ben')\n"
   ]
  },
  {
   "cell_type": "code",
   "execution_count": 40,
   "metadata": {},
   "outputs": [
    {
     "name": "stdout",
     "output_type": "stream",
     "text": [
      "{}\n"
     ]
    }
   ],
   "source": [
    "pprint(player4.player_pokemon)"
   ]
  },
  {
   "cell_type": "code",
   "execution_count": 41,
   "metadata": {},
   "outputs": [],
   "source": [
    "player4.player_pokemon.update({get_pokedexkey(2):pokedex2[get_pokedexkey(2)]})"
   ]
  },
  {
   "cell_type": "code",
   "execution_count": 43,
   "metadata": {},
   "outputs": [
    {
     "name": "stdout",
     "output_type": "stream",
     "text": [
      "{(2, 1): {'Attack': 62,\n",
      "          'Defense': 63,\n",
      "          'HP': 60,\n",
      "          'Name': 'Ivysaur',\n",
      "          'SpecialAttack': 80,\n",
      "          'SpecialDefense': 80,\n",
      "          'Speed': 60,\n",
      "          'Total': 405,\n",
      "          'Type': 'GrassPoison'}}\n"
     ]
    }
   ],
   "source": [
    "pprint(player4.player_pokemon)"
   ]
  },
  {
   "cell_type": "markdown",
   "metadata": {},
   "source": [
    "<img src=\"http://i.imgur.com/GCAf1UX.png\" style=\"float: left; margin: 25px 15px 0px 0px; height: 25px\">\n",
    "\n",
    "## 10. Write a function to generate a \"filtered\" pokedex\n",
    "---\n",
    "Your function should:\n",
    "1. Take the parsed pokedex information you created above as an argument.\n",
    "1. Take a dictionary as a parameter with keys matching the features of the Pokedex, filtering by exact match for string type values, and/or filter continuous variables specified value that is greater than or equal to the dictionary key parameter.\n",
    "1. Return multiple elements from the Pokedex\n",
    "\n",
    "Example:\n",
    "\n",
    "```python\n",
    "\n",
    "# Only filter based on parameters passed\n",
    "filter_options = {\n",
    "    'Attack':   25,\n",
    "    'Defense':  30,\n",
    "    'Type':     'Electric'\n",
    "}\n",
    "\n",
    "# Return records with attack >= 24, defense >= 30, and type == \"Electric\"\n",
    "# Also anticipate that other paramters can also be passed such as \"SpecialAttack\", \"Speed\", etc.\n",
    "filtered_pokedex(pokedex_data, filter=filter_options)\n",
    "\n",
    "# Example output:\n",
    "# [{'Attack': 30.0,\n",
    "#  'Defense': 50.0,\n",
    "#  'HP': 40.0,\n",
    "#  'Name': 'Voltorb',\n",
    "#  'SpecialAttack': 55.0,\n",
    "#  'SpecialDefense': 55.0,\n",
    "#  'Speed': 100.0,\n",
    "#  'Total': 330.0,\n",
    "#  'Type': 'Electric'},\n",
    "#  {'Attack': 30.0,\n",
    "#  'Defense': 33.0,\n",
    "#  'HP': 32.0,\n",
    "#  'Name': 'Pikachu',\n",
    "#  'SpecialAttack': 55.0,\n",
    "#  'SpecialDefense': 55.0,\n",
    "#  'Speed': 100.0,\n",
    "#  'Total': 330.0,\n",
    "#  'Type': 'Electric'},\n",
    "#  ... etc\n",
    "#  ]\n",
    "\n",
    "```\n",
    "\n"
   ]
  },
  {
   "cell_type": "code",
   "execution_count": 44,
   "metadata": {},
   "outputs": [],
   "source": [
    "def filter_attr(filter_pokedex, filter_dict):\n",
    "    result_list = list(filter_pokedex.values())\n",
    "    for filter_key in filter_dict.keys():\n",
    "\n",
    "        if not result_list[0].get(filter_key,0):\n",
    "            print('Attribute '+ filter_key + ' do not exist')\n",
    "            continue\n",
    "        \n",
    "        if type(filter_dict[filter_key])==int or type(filter_dict[filter_key])==float:\n",
    "            result_list = [pokemon for pokemon in result_list if pokemon[filter_key]>=filter_dict[filter_key]]\n",
    "        else:\n",
    "            result_list = [pokemon for pokemon in result_list if pokemon[filter_key]==filter_dict[filter_key]]\n",
    "                    \n",
    "    return result_list"
   ]
  },
  {
   "cell_type": "code",
   "execution_count": 45,
   "metadata": {},
   "outputs": [
    {
     "data": {
      "text/plain": [
       "[{'Name': 'Pikachu',\n",
       "  'Type': 'Electric',\n",
       "  'Total': 320,\n",
       "  'HP': 35,\n",
       "  'Attack': 55,\n",
       "  'Defense': 40,\n",
       "  'SpecialAttack': 50,\n",
       "  'SpecialDefense': 50,\n",
       "  'Speed': 90},\n",
       " {'Name': 'Raichu',\n",
       "  'Type': 'Electric',\n",
       "  'Total': 485,\n",
       "  'HP': 60,\n",
       "  'Attack': 90,\n",
       "  'Defense': 55,\n",
       "  'SpecialAttack': 90,\n",
       "  'SpecialDefense': 80,\n",
       "  'Speed': 110},\n",
       " {'Name': 'Voltorb',\n",
       "  'Type': 'Electric',\n",
       "  'Total': 330,\n",
       "  'HP': 40,\n",
       "  'Attack': 30,\n",
       "  'Defense': 50,\n",
       "  'SpecialAttack': 55,\n",
       "  'SpecialDefense': 55,\n",
       "  'Speed': 100},\n",
       " {'Name': 'Electrode',\n",
       "  'Type': 'Electric',\n",
       "  'Total': 480,\n",
       "  'HP': 60,\n",
       "  'Attack': 50,\n",
       "  'Defense': 70,\n",
       "  'SpecialAttack': 80,\n",
       "  'SpecialDefense': 80,\n",
       "  'Speed': 140},\n",
       " {'Name': 'Electabuzz',\n",
       "  'Type': 'Electric',\n",
       "  'Total': 490,\n",
       "  'HP': 65,\n",
       "  'Attack': 83,\n",
       "  'Defense': 57,\n",
       "  'SpecialAttack': 95,\n",
       "  'SpecialDefense': 85,\n",
       "  'Speed': 105},\n",
       " {'Name': 'Jolteon',\n",
       "  'Type': 'Electric',\n",
       "  'Total': 525,\n",
       "  'HP': 65,\n",
       "  'Attack': 65,\n",
       "  'Defense': 60,\n",
       "  'SpecialAttack': 110,\n",
       "  'SpecialDefense': 95,\n",
       "  'Speed': 130},\n",
       " {'Name': 'Mareep',\n",
       "  'Type': 'Electric',\n",
       "  'Total': 280,\n",
       "  'HP': 55,\n",
       "  'Attack': 40,\n",
       "  'Defense': 40,\n",
       "  'SpecialAttack': 65,\n",
       "  'SpecialDefense': 45,\n",
       "  'Speed': 35},\n",
       " {'Name': 'Flaaffy',\n",
       "  'Type': 'Electric',\n",
       "  'Total': 365,\n",
       "  'HP': 70,\n",
       "  'Attack': 55,\n",
       "  'Defense': 55,\n",
       "  'SpecialAttack': 80,\n",
       "  'SpecialDefense': 60,\n",
       "  'Speed': 45},\n",
       " {'Name': 'Ampharos',\n",
       "  'Type': 'Electric',\n",
       "  'Total': 510,\n",
       "  'HP': 90,\n",
       "  'Attack': 75,\n",
       "  'Defense': 85,\n",
       "  'SpecialAttack': 115,\n",
       "  'SpecialDefense': 90,\n",
       "  'Speed': 55},\n",
       " {'Name': 'Elekid',\n",
       "  'Type': 'Electric',\n",
       "  'Total': 360,\n",
       "  'HP': 45,\n",
       "  'Attack': 63,\n",
       "  'Defense': 37,\n",
       "  'SpecialAttack': 65,\n",
       "  'SpecialDefense': 55,\n",
       "  'Speed': 95},\n",
       " {'Name': 'Raikou',\n",
       "  'Type': 'Electric',\n",
       "  'Total': 580,\n",
       "  'HP': 90,\n",
       "  'Attack': 85,\n",
       "  'Defense': 75,\n",
       "  'SpecialAttack': 115,\n",
       "  'SpecialDefense': 100,\n",
       "  'Speed': 115},\n",
       " {'Name': 'Electrike',\n",
       "  'Type': 'Electric',\n",
       "  'Total': 295,\n",
       "  'HP': 40,\n",
       "  'Attack': 45,\n",
       "  'Defense': 40,\n",
       "  'SpecialAttack': 65,\n",
       "  'SpecialDefense': 40,\n",
       "  'Speed': 65},\n",
       " {'Name': 'Manectric',\n",
       "  'Type': 'Electric',\n",
       "  'Total': 475,\n",
       "  'HP': 70,\n",
       "  'Attack': 75,\n",
       "  'Defense': 60,\n",
       "  'SpecialAttack': 105,\n",
       "  'SpecialDefense': 60,\n",
       "  'Speed': 105},\n",
       " {'Name': 'ManectricMega Manectric',\n",
       "  'Type': 'Electric',\n",
       "  'Total': 575,\n",
       "  'HP': 70,\n",
       "  'Attack': 75,\n",
       "  'Defense': 80,\n",
       "  'SpecialAttack': 135,\n",
       "  'SpecialDefense': 80,\n",
       "  'Speed': 135},\n",
       " {'Name': 'Plusle',\n",
       "  'Type': 'Electric',\n",
       "  'Total': 405,\n",
       "  'HP': 60,\n",
       "  'Attack': 50,\n",
       "  'Defense': 40,\n",
       "  'SpecialAttack': 85,\n",
       "  'SpecialDefense': 75,\n",
       "  'Speed': 95},\n",
       " {'Name': 'Minun',\n",
       "  'Type': 'Electric',\n",
       "  'Total': 405,\n",
       "  'HP': 60,\n",
       "  'Attack': 40,\n",
       "  'Defense': 50,\n",
       "  'SpecialAttack': 75,\n",
       "  'SpecialDefense': 85,\n",
       "  'Speed': 95},\n",
       " {'Name': 'Shinx',\n",
       "  'Type': 'Electric',\n",
       "  'Total': 263,\n",
       "  'HP': 45,\n",
       "  'Attack': 65,\n",
       "  'Defense': 34,\n",
       "  'SpecialAttack': 40,\n",
       "  'SpecialDefense': 34,\n",
       "  'Speed': 45},\n",
       " {'Name': 'Luxio',\n",
       "  'Type': 'Electric',\n",
       "  'Total': 363,\n",
       "  'HP': 60,\n",
       "  'Attack': 85,\n",
       "  'Defense': 49,\n",
       "  'SpecialAttack': 60,\n",
       "  'SpecialDefense': 49,\n",
       "  'Speed': 60},\n",
       " {'Name': 'Luxray',\n",
       "  'Type': 'Electric',\n",
       "  'Total': 523,\n",
       "  'HP': 80,\n",
       "  'Attack': 120,\n",
       "  'Defense': 79,\n",
       "  'SpecialAttack': 95,\n",
       "  'SpecialDefense': 79,\n",
       "  'Speed': 70},\n",
       " {'Name': 'Pachirisu',\n",
       "  'Type': 'Electric',\n",
       "  'Total': 405,\n",
       "  'HP': 60,\n",
       "  'Attack': 45,\n",
       "  'Defense': 70,\n",
       "  'SpecialAttack': 45,\n",
       "  'SpecialDefense': 90,\n",
       "  'Speed': 95},\n",
       " {'Name': 'Electivire',\n",
       "  'Type': 'Electric',\n",
       "  'Total': 540,\n",
       "  'HP': 75,\n",
       "  'Attack': 123,\n",
       "  'Defense': 67,\n",
       "  'SpecialAttack': 95,\n",
       "  'SpecialDefense': 85,\n",
       "  'Speed': 95},\n",
       " {'Name': 'Blitzle',\n",
       "  'Type': 'Electric',\n",
       "  'Total': 295,\n",
       "  'HP': 45,\n",
       "  'Attack': 60,\n",
       "  'Defense': 32,\n",
       "  'SpecialAttack': 50,\n",
       "  'SpecialDefense': 32,\n",
       "  'Speed': 76},\n",
       " {'Name': 'Zebstrika',\n",
       "  'Type': 'Electric',\n",
       "  'Total': 497,\n",
       "  'HP': 75,\n",
       "  'Attack': 100,\n",
       "  'Defense': 63,\n",
       "  'SpecialAttack': 80,\n",
       "  'SpecialDefense': 63,\n",
       "  'Speed': 116},\n",
       " {'Name': 'Tynamo',\n",
       "  'Type': 'Electric',\n",
       "  'Total': 275,\n",
       "  'HP': 35,\n",
       "  'Attack': 55,\n",
       "  'Defense': 40,\n",
       "  'SpecialAttack': 45,\n",
       "  'SpecialDefense': 40,\n",
       "  'Speed': 60},\n",
       " {'Name': 'Eelektrik',\n",
       "  'Type': 'Electric',\n",
       "  'Total': 405,\n",
       "  'HP': 65,\n",
       "  'Attack': 85,\n",
       "  'Defense': 70,\n",
       "  'SpecialAttack': 75,\n",
       "  'SpecialDefense': 70,\n",
       "  'Speed': 40},\n",
       " {'Name': 'Eelektross',\n",
       "  'Type': 'Electric',\n",
       "  'Total': 515,\n",
       "  'HP': 85,\n",
       "  'Attack': 115,\n",
       "  'Defense': 80,\n",
       "  'SpecialAttack': 105,\n",
       "  'SpecialDefense': 80,\n",
       "  'Speed': 50}]"
      ]
     },
     "execution_count": 45,
     "metadata": {},
     "output_type": "execute_result"
    }
   ],
   "source": [
    "filter_options = {\n",
    "    'Attack':   25,\n",
    "    'Defense':  30,\n",
    "    'Type':     'Electric'\n",
    "}\n",
    "filter_attr(pokedex2, filter_options)"
   ]
  },
  {
   "cell_type": "code",
   "execution_count": 46,
   "metadata": {},
   "outputs": [],
   "source": [
    "# pokedex2"
   ]
  },
  {
   "cell_type": "markdown",
   "metadata": {
    "collapsed": true
   },
   "source": [
    "\n",
    "## 9. Descriptive statistics on the prototype pokedex\n",
    "\n",
    "<img src=\"http://imgur.com/l5NasQj.png\" style=\"float: left; margin: 25px 15px 0px 0px; height: 25px\">\n",
    "### 9.1\n",
    "\n",
    "What is the population mean and standard deviation of the \"Total\" attribute for all characters in the Pokedex?\n",
    "\n"
   ]
  },
  {
   "cell_type": "code",
   "execution_count": 47,
   "metadata": {},
   "outputs": [
    {
     "name": "stdout",
     "output_type": "stream",
     "text": [
      "The mean is 435.1275\n",
      "The std is 119.96202000529168\n"
     ]
    }
   ],
   "source": [
    "import numpy as np\n",
    "poke_mean = np.mean( [pokedex2[keys]['Total'] for keys in pokedex2.keys()])\n",
    "poke_std = np.std( [pokedex2[keys]['Total'] for keys in pokedex2.keys()])\n",
    "print('The mean is ' + str(poke_mean))\n",
    "print('The std is ' + str(poke_std))"
   ]
  },
  {
   "cell_type": "markdown",
   "metadata": {},
   "source": [
    "<img src=\"http://imgur.com/l5NasQj.png\" style=\"float: left; margin: 25px 15px 0px 0px; height: 25px\">\n",
    "### 9.2\n",
    "\n",
    "The game is no fun if the characters are wildly unbalanced! Are any characters \"overpowered\", which we'll define as having a \"Total\" more than three standard deviations from the population mean?"
   ]
  },
  {
   "cell_type": "code",
   "execution_count": 48,
   "metadata": {},
   "outputs": [
    {
     "name": "stdout",
     "output_type": "stream",
     "text": [
      "Total power over 795.0135600158751 is considered overpowered\n",
      "MewtwoMega Mewtwo X has total 800\n"
     ]
    }
   ],
   "source": [
    "th = poke_mean + 3*poke_std\n",
    "print('Total power over ' + str(th)+ ' is considered overpowered' )\n",
    "\n",
    "for key in pokedex2.keys():\n",
    "    if pokedex2[key]['Total']  > th:\n",
    "        print(pokedex2[key]['Name'] + ' has total ' + str(pokedex2[key]['Total']))"
   ]
  },
  {
   "cell_type": "markdown",
   "metadata": {},
   "source": [
    "<img src=\"http://imgur.com/xDpSobf.png\" style=\"float: left; margin: 25px 15px 0px 0px; height: 25px\">\n",
    "\n",
    "## 10. Calibrate the frequency of Pokemon\n",
    "\n",
    "The design team wants you to make the powerful Pokemon rare, and the weaklings more common. How would you set the probability $p_i$ of finding Pokemon *i* each time a player visits a gym?\n",
    "\n",
    "Write a function that takes in a Pokedex number and returns a value $p_i$ for that character.\n",
    "\n",
    "Hint: there are many ways you could do this. What do _you_ think makes sense? Start with simplifying assumptions: for example, you could assume that the probabilities of encountering any two Pokemon on one visit to a gym are independent of each other."
   ]
  },
  {
   "cell_type": "code",
   "execution_count": null,
   "metadata": {},
   "outputs": [],
   "source": []
  }
 ],
 "metadata": {
  "anaconda-cloud": {},
  "kernelspec": {
   "display_name": "Python 3",
   "language": "python",
   "name": "python3"
  },
  "language_info": {
   "codemirror_mode": {
    "name": "ipython",
    "version": 3
   },
   "file_extension": ".py",
   "mimetype": "text/x-python",
   "name": "python",
   "nbconvert_exporter": "python",
   "pygments_lexer": "ipython3",
   "version": "3.6.7"
  }
 },
 "nbformat": 4,
 "nbformat_minor": 1
}
